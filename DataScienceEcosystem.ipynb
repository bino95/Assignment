{
 "cells": [
  {
   "cell_type": "markdown",
   "id": "3b9106f0-e515-46bb-bfb0-d812395827a1",
   "metadata": {},
   "source": [
    "# Data Science Tools and Ecosystem"
   ]
  },
  {
   "cell_type": "markdown",
   "id": "f3e4d6c0-4e96-48bf-9925-80f14e2877fd",
   "metadata": {},
   "source": [
    "In this notebook, Data Science Tools and Ecosystem are summarized."
   ]
  },
  {
   "cell_type": "markdown",
   "id": "d3daa2d5-8e45-472b-876c-7e36f45cb985",
   "metadata": {},
   "source": [
    "Some of the popular languages that Data Scientists use are:\n",
    "1. Python\n",
    "2. R\n",
    "3. Julia\n",
    "4. SQL"
   ]
  },
  {
   "cell_type": "markdown",
   "id": "8f83b4f6-546f-4f72-a2cf-3d7c309945c9",
   "metadata": {},
   "source": [
    "| Data Science Tools |\n",
    "---------------------\n",
    "| RSTudio |\n",
    "| Apache Spark |\n",
    "| Tensorflow |"
   ]
  },
  {
   "cell_type": "markdown",
   "id": "5aab0256-eafd-4c01-98b4-52cea8b18696",
   "metadata": {},
   "source": [
    "### Below are a few examples of evaluating arithmetic expressions in Python"
   ]
  },
  {
   "cell_type": "code",
   "execution_count": 3,
   "id": "a8d93a68-ab7e-4466-835f-8aaa07c1565f",
   "metadata": {
    "tags": []
   },
   "outputs": [
    {
     "data": {
      "text/plain": [
       "17"
      ]
     },
     "execution_count": 3,
     "metadata": {},
     "output_type": "execute_result"
    }
   ],
   "source": [
    "#This a simple arithmetic expression to mutiply then add integers\n",
    "(3*4)+5"
   ]
  },
  {
   "cell_type": "code",
   "execution_count": 7,
   "id": "6c8be4bc-c16d-455b-9365-df1914866566",
   "metadata": {
    "tags": []
   },
   "outputs": [
    {
     "data": {
      "text/plain": [
       "3.3333333333333335"
      ]
     },
     "execution_count": 7,
     "metadata": {},
     "output_type": "execute_result"
    }
   ],
   "source": [
    "#This will convert 200 minutes to hours by diving by 60\n",
    "200/60"
   ]
  },
  {
   "cell_type": "markdown",
   "id": "037d14c7-30b6-4161-baf7-2b0cbbd4860b",
   "metadata": {},
   "source": [
    "**Objectives:**\n",
    "* List poplulat languages for Data Scientists\n",
    "* Create a markdown or code cell\n",
    "* Create headings\n",
    "* Create lists\n",
    "* Create a table\n",
    "* Perform calculations"
   ]
  },
  {
   "cell_type": "markdown",
   "id": "ff70d334-3180-4745-8bf8-1094fce01ec0",
   "metadata": {},
   "source": [
    "## Author:\n",
    "Carina Laemmle"
   ]
  },
  {
   "cell_type": "code",
   "execution_count": null,
   "id": "b64f0fe7-675a-4980-a3c5-57c97fa796f9",
   "metadata": {},
   "outputs": [],
   "source": []
  }
 ],
 "metadata": {
  "kernelspec": {
   "display_name": "Python 3 (ipykernel)",
   "language": "python",
   "name": "python3"
  },
  "language_info": {
   "codemirror_mode": {
    "name": "ipython",
    "version": 3
   },
   "file_extension": ".py",
   "mimetype": "text/x-python",
   "name": "python",
   "nbconvert_exporter": "python",
   "pygments_lexer": "ipython3",
   "version": "3.11.4"
  }
 },
 "nbformat": 4,
 "nbformat_minor": 5
}
